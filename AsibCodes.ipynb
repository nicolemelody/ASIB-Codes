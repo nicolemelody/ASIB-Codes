{
 "cells": [
  {
   "cell_type": "markdown",
   "metadata": {},
   "source": [
    "Generate Store Code:"
   ]
  },
  {
   "cell_type": "code",
   "execution_count": null,
   "metadata": {},
   "outputs": [],
   "source": [
    "from random import *\n",
    "\n",
    "allowed_rolls= list(range(1, 1001))\n",
    "i=1\n",
    "\n",
    "#List the items here according to rarity:\n",
    "c=['Hairdresser Ticket','RP item 1', 'RP item 2', 'RP item 3' ] #common\n",
    "uc=['Change appearence Ticket', 'Personality Change Serum'] #uncommon\n",
    "r=['Retirement Letter', 'Team Tickets', 'Spiritual Essence', 'Yasa Syringe'] #rare\n",
    "sr=['Healing Serum', 'Lucky Charm'] #super rare\n",
    "ur=['Change Ability'] #ultra rare\n",
    "\n",
    "print('The next items store will be:\\n')\n",
    "while i<=5:\n",
    "    m=choice(allowed_rolls)\n",
    "    \n",
    "    #Common items\n",
    "    if m< 500:\n",
    "        if len(c):\n",
    "            item=choice(c)\n",
    "            c.remove(item)\n",
    "            print(\" -(C)\",item)\n",
    "            i+=1\n",
    "                \n",
    "    #Uncommon items\n",
    "    elif m>=500 and m<800: \n",
    "        if len(uc):\n",
    "            item=choice(uc)\n",
    "            uc.remove(item)\n",
    "            print(\" -(UC)\",item)\n",
    "            i+=1\n",
    "        \n",
    "    #Rare Items\n",
    "    elif m>=800 and m<920:\n",
    "        if len(r):\n",
    "            item=choice(r)\n",
    "            r.remove(item)\n",
    "            print(\" -(R)\",item)\n",
    "            i+=1\n",
    "    \n",
    "    #Super Rare Items\n",
    "    elif m>=920 and m<985:\n",
    "        if len(sr):\n",
    "            item=choice(sr)\n",
    "            sr.remove(item)        \n",
    "            print(\" -(SR)\",item)\n",
    "            i+=1\n",
    "    \n",
    "    #Ultra Rare Items\n",
    "    elif m>=985 and m<=1000:\n",
    "        if len(ur):\n",
    "            item=choice(ur)\n",
    "            ur.remove(item)        \n",
    "            print(\" -(UR)\",item)\n",
    "            i+=1"
   ]
  },
  {
   "cell_type": "code",
   "execution_count": null,
   "metadata": {},
   "outputs": [],
   "source": []
  }
 ],
 "metadata": {
  "kernelspec": {
   "display_name": "Python 3",
   "language": "python",
   "name": "python3"
  },
  "language_info": {
   "codemirror_mode": {
    "name": "ipython",
    "version": 3
   },
   "file_extension": ".py",
   "mimetype": "text/x-python",
   "name": "python",
   "nbconvert_exporter": "python",
   "pygments_lexer": "ipython3",
   "version": "3.6.6"
  }
 },
 "nbformat": 4,
 "nbformat_minor": 2
}
