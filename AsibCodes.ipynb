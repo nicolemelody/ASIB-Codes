{
 "cells": [
  {
   "cell_type": "markdown",
   "metadata": {},
   "source": [
    "Store Items:"
   ]
  },
  {
   "cell_type": "code",
   "execution_count": 2,
   "metadata": {},
   "outputs": [
    {
     "name": "stdout",
     "output_type": "stream",
     "text": [
      "The next item store will be:\n",
      "\n",
      "-haircut ticket.\n",
      "-potion.\n",
      "-potion.\n",
      "-haircut ticket.\n",
      "-haircut ticket.\n"
     ]
    }
   ],
   "source": [
    "from random import *\n",
    "\n",
    "allowed_rolls= list(range(1, 1001))\n",
    "c=[]\n",
    "uc=[]\n",
    "\n",
    "print('The next item store will be:\\n')\n",
    "for i in range (5):\n",
    "    m=choice(allowed_rolls)\n",
    "    \n",
    "    #Common items\n",
    "    if m< 500:\n",
    "        print('-potion.')\n",
    "    \n",
    "    #Uncommon items\n",
    "    else if m>=500 and m<800: \n",
    "        print('-haircut ticket.')\n",
    "        \n",
    "    #Rare Items\n",
    "    else if m>=800 and m<920:\n",
    "        \n",
    "    \n",
    "    allowed_rolls.remove(m)\n"
   ]
  }
 ],
 "metadata": {
  "kernelspec": {
   "display_name": "Python 3",
   "language": "python",
   "name": "python3"
  },
  "language_info": {
   "codemirror_mode": {
    "name": "ipython",
    "version": 3
   },
   "file_extension": ".py",
   "mimetype": "text/x-python",
   "name": "python",
   "nbconvert_exporter": "python",
   "pygments_lexer": "ipython3",
   "version": "3.6.6"
  }
 },
 "nbformat": 4,
 "nbformat_minor": 2
}
